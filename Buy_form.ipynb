{
 "cells": [
  {
   "cell_type": "code",
   "execution_count": 1,
   "id": "e204ca5c",
   "metadata": {},
   "outputs": [],
   "source": [
    "import pandas as pd"
   ]
  },
  {
   "cell_type": "code",
   "execution_count": 2,
   "id": "9d616aab",
   "metadata": {},
   "outputs": [],
   "source": [
    "cd=pd.read_csv('autodata-mpg.csv')"
   ]
  },
  {
   "cell_type": "code",
   "execution_count": 3,
   "id": "063da34b",
   "metadata": {},
   "outputs": [
    {
     "data": {
      "text/html": [
       "<div>\n",
       "<style scoped>\n",
       "    .dataframe tbody tr th:only-of-type {\n",
       "        vertical-align: middle;\n",
       "    }\n",
       "\n",
       "    .dataframe tbody tr th {\n",
       "        vertical-align: top;\n",
       "    }\n",
       "\n",
       "    .dataframe thead th {\n",
       "        text-align: right;\n",
       "    }\n",
       "</style>\n",
       "<table border=\"1\" class=\"dataframe\">\n",
       "  <thead>\n",
       "    <tr style=\"text-align: right;\">\n",
       "      <th></th>\n",
       "      <th>Name</th>\n",
       "      <th>Manufacturer</th>\n",
       "      <th>Location</th>\n",
       "      <th>Year</th>\n",
       "      <th>Kilometers_Driven</th>\n",
       "      <th>Fuel_Type</th>\n",
       "      <th>Transmission</th>\n",
       "      <th>Owner_Type</th>\n",
       "      <th>Engine CC</th>\n",
       "      <th>Power</th>\n",
       "      <th>Seats</th>\n",
       "      <th>Mileage Km/L</th>\n",
       "      <th>Price</th>\n",
       "    </tr>\n",
       "  </thead>\n",
       "  <tbody>\n",
       "    <tr>\n",
       "      <th>0</th>\n",
       "      <td>Maruti Wagon R LXI CNG</td>\n",
       "      <td>Maruti</td>\n",
       "      <td>Mumbai</td>\n",
       "      <td>2010</td>\n",
       "      <td>72000</td>\n",
       "      <td>CNG</td>\n",
       "      <td>Manual</td>\n",
       "      <td>First</td>\n",
       "      <td>998</td>\n",
       "      <td>58.16</td>\n",
       "      <td>5</td>\n",
       "      <td>26.60</td>\n",
       "      <td>1.75</td>\n",
       "    </tr>\n",
       "    <tr>\n",
       "      <th>1</th>\n",
       "      <td>Hyundai Creta 1.6 CRDi SX Option</td>\n",
       "      <td>Hyundai</td>\n",
       "      <td>Pune</td>\n",
       "      <td>2015</td>\n",
       "      <td>41000</td>\n",
       "      <td>Diesel</td>\n",
       "      <td>Manual</td>\n",
       "      <td>First</td>\n",
       "      <td>1582</td>\n",
       "      <td>126.20</td>\n",
       "      <td>5</td>\n",
       "      <td>19.67</td>\n",
       "      <td>12.50</td>\n",
       "    </tr>\n",
       "    <tr>\n",
       "      <th>2</th>\n",
       "      <td>Honda Jazz V</td>\n",
       "      <td>Honda</td>\n",
       "      <td>Chennai</td>\n",
       "      <td>2011</td>\n",
       "      <td>46000</td>\n",
       "      <td>Petrol</td>\n",
       "      <td>Manual</td>\n",
       "      <td>First</td>\n",
       "      <td>1199</td>\n",
       "      <td>88.70</td>\n",
       "      <td>5</td>\n",
       "      <td>18.20</td>\n",
       "      <td>4.50</td>\n",
       "    </tr>\n",
       "    <tr>\n",
       "      <th>3</th>\n",
       "      <td>Maruti Ertiga VDI</td>\n",
       "      <td>Maruti</td>\n",
       "      <td>Chennai</td>\n",
       "      <td>2012</td>\n",
       "      <td>87000</td>\n",
       "      <td>Diesel</td>\n",
       "      <td>Manual</td>\n",
       "      <td>First</td>\n",
       "      <td>1248</td>\n",
       "      <td>88.76</td>\n",
       "      <td>7</td>\n",
       "      <td>20.77</td>\n",
       "      <td>6.00</td>\n",
       "    </tr>\n",
       "    <tr>\n",
       "      <th>4</th>\n",
       "      <td>Audi A4 New 2.0 TDI Multitronic</td>\n",
       "      <td>Audi</td>\n",
       "      <td>Coimbatore</td>\n",
       "      <td>2013</td>\n",
       "      <td>40670</td>\n",
       "      <td>Diesel</td>\n",
       "      <td>Automatic</td>\n",
       "      <td>Second</td>\n",
       "      <td>1968</td>\n",
       "      <td>140.80</td>\n",
       "      <td>5</td>\n",
       "      <td>15.20</td>\n",
       "      <td>17.74</td>\n",
       "    </tr>\n",
       "  </tbody>\n",
       "</table>\n",
       "</div>"
      ],
      "text/plain": [
       "                               Name Manufacturer    Location  Year  \\\n",
       "0            Maruti Wagon R LXI CNG       Maruti      Mumbai  2010   \n",
       "1  Hyundai Creta 1.6 CRDi SX Option      Hyundai        Pune  2015   \n",
       "2                      Honda Jazz V        Honda     Chennai  2011   \n",
       "3                 Maruti Ertiga VDI       Maruti     Chennai  2012   \n",
       "4   Audi A4 New 2.0 TDI Multitronic         Audi  Coimbatore  2013   \n",
       "\n",
       "   Kilometers_Driven Fuel_Type Transmission Owner_Type  Engine CC   Power  \\\n",
       "0              72000       CNG       Manual      First        998   58.16   \n",
       "1              41000    Diesel       Manual      First       1582  126.20   \n",
       "2              46000    Petrol       Manual      First       1199   88.70   \n",
       "3              87000    Diesel       Manual      First       1248   88.76   \n",
       "4              40670    Diesel    Automatic     Second       1968  140.80   \n",
       "\n",
       "   Seats  Mileage Km/L  Price  \n",
       "0      5         26.60   1.75  \n",
       "1      5         19.67  12.50  \n",
       "2      5         18.20   4.50  \n",
       "3      7         20.77   6.00  \n",
       "4      5         15.20  17.74  "
      ]
     },
     "execution_count": 3,
     "metadata": {},
     "output_type": "execute_result"
    }
   ],
   "source": [
    "cd.head(5)"
   ]
  },
  {
   "cell_type": "code",
   "execution_count": 4,
   "id": "0e49b1b4",
   "metadata": {},
   "outputs": [
    {
     "data": {
      "text/plain": [
       "<bound method NDFrame.describe of 0       2010\n",
       "1       2015\n",
       "2       2011\n",
       "3       2012\n",
       "4       2013\n",
       "        ... \n",
       "5970    2014\n",
       "5971    2015\n",
       "5972    2012\n",
       "5973    2013\n",
       "5974    2011\n",
       "Name: Year, Length: 5975, dtype: int64>"
      ]
     },
     "execution_count": 4,
     "metadata": {},
     "output_type": "execute_result"
    }
   ],
   "source": [
    "cd['Year'].describe"
   ]
  },
  {
   "cell_type": "code",
   "execution_count": 5,
   "id": "23100264",
   "metadata": {},
   "outputs": [],
   "source": [
    "minage=2010\n",
    "maxage=2024\n",
    "minen=5\n",
    "maxeng=6876\n",
    "minp=6\n",
    "maxpo=898\n",
    "minmi=15\n",
    "maxmil=765\n",
    "tran=\"Manual\"\n",
    "seats=5\n",
    "fueltype=\"CNG\""
   ]
  },
  {
   "cell_type": "code",
   "execution_count": 6,
   "id": "0b541722",
   "metadata": {},
   "outputs": [],
   "source": [
    "# df1=cd[(cd['Year']>=minage)&(cd['Year']<maxage)&(cd['Engine CC']>=minen)&(cd['Engine CC']<maxeng)&(cd['Power']>minp)&(cd['Power']<maxpo)&(cd['Mileage Km/L']>minmi)&(cd['Mileage Km/L']<maxmil)&(cd['Transmission']==tran)\n",
    "# &(cd['Seats']==seats)&(cd['Fuel_Type']==fueltype)] \n",
    "# df1.shape"
   ]
  },
  {
   "cell_type": "code",
   "execution_count": 7,
   "id": "75f97cff",
   "metadata": {},
   "outputs": [],
   "source": [
    "# cd[(cd['Mileage Km/L']>minmi)&(cd['Mileage Km/L']<maxmil)&(cd['Transmission']==tran)\n",
    "# &(cd['Seats']==seats)&(cd['Fuel_Type']==fueltype)]\n",
    "# df2.shape"
   ]
  },
  {
   "cell_type": "code",
   "execution_count": 8,
   "id": "265d12da",
   "metadata": {},
   "outputs": [],
   "source": [
    "# def resultTable(int minage , int maxage , int mineng ,int maxeng , int minpow ,int maxpow , int minmil , int maxmil ,str trans ,int seats , str fueltype)\n",
    "#     final_dataset=df1=cd[(cd['Year']>=minage)&(cd['Year']<maxage)&(cd['Engine CC']>=mineng)&(cd['Engine CC']<maxeng)&(cd['Power']>minp)&(cd['Power']<maxpow)&(cd['Mileage Km/L']>minmil)&(cd['Mileage Km/L']<maxmil)&(cd['Transmission']==trans)\n",
    "# &(cd['Seats']==seats)&(cd['Fuel_Type']==fueltype)] \n",
    "#     final_dataset.head()\n",
    "    "
   ]
  },
  {
   "cell_type": "code",
   "execution_count": 9,
   "id": "69f60f8c",
   "metadata": {},
   "outputs": [],
   "source": [
    "#     import pandas as pd\n",
    "#     cd=pd.read_csv('data.csv')\n",
    "def resultTable (minage ,maxage ,mineng ,maxeng ,minpow ,maxpow ,minmil ,maxmil ,trans ,seats ,fueltype ):\n",
    "        final_dataset=cd[(cd['Year']>=minage)&(cd['Year']<maxage)&(cd['Engine CC']>=mineng)&(cd['Engine CC']<maxeng)&(cd['Power']>minpow)&(cd['Power']<maxpow)&(cd['Mileage Km/L']>minmil)&(cd['Mileage Km/L']<maxmil)&(cd['Transmission']==trans)&(cd['Seats']==seats)&(cd['Fuel_Type']==fueltype)] \n",
    "        final_dataset\n",
    "\n"
   ]
  },
  {
   "cell_type": "code",
   "execution_count": 30,
   "id": "8b81f6ed",
   "metadata": {},
   "outputs": [
    {
     "data": {
      "text/plain": [
       "Index(['Name', 'Manufacturer', 'Location', 'Year', 'Kilometers_Driven',\n",
       "       'Fuel_Type', 'Transmission', 'Owner_Type', 'Engine CC', 'Power',\n",
       "       'Seats', 'Mileage Km/L', 'Price'],\n",
       "      dtype='object')"
      ]
     },
     "execution_count": 30,
     "metadata": {},
     "output_type": "execute_result"
    }
   ],
   "source": [
    "cd.columns"
   ]
  },
  {
   "cell_type": "code",
   "execution_count": 18,
   "id": "46505678",
   "metadata": {},
   "outputs": [
    {
     "ename": "TypeError",
     "evalue": "resultTable() missing 10 required positional arguments: 'maxage', 'mineng', 'maxeng', 'minpow', 'maxpow', 'minmil', 'maxmil', 'trans', 'seats', and 'fueltype'",
     "output_type": "error",
     "traceback": [
      "\u001b[1;31m---------------------------------------------------------------------------\u001b[0m",
      "\u001b[1;31mTypeError\u001b[0m                                 Traceback (most recent call last)",
      "\u001b[1;32m~\\AppData\\Local\\Temp\\ipykernel_15280\\2143685889.py\u001b[0m in \u001b[0;36m<module>\u001b[1;34m\u001b[0m\n\u001b[1;32m----> 1\u001b[1;33m \u001b[0mresultTable\u001b[0m\u001b[1;33m(\u001b[0m\u001b[1;33m[\u001b[0m\u001b[1;33m[\u001b[0m \u001b[1;36m10\u001b[0m \u001b[1;33m,\u001b[0m \u001b[1;36m20\u001b[0m \u001b[1;33m,\u001b[0m\u001b[1;36m25\u001b[0m\u001b[1;33m,\u001b[0m\u001b[1;36m600\u001b[0m\u001b[1;33m,\u001b[0m\u001b[1;36m15\u001b[0m\u001b[1;33m,\u001b[0m\u001b[1;36m70\u001b[0m \u001b[1;33m,\u001b[0m\u001b[1;36m15\u001b[0m\u001b[1;33m,\u001b[0m\u001b[1;36m25\u001b[0m\u001b[1;33m,\u001b[0m \u001b[1;34m\"Manual\"\u001b[0m\u001b[1;33m,\u001b[0m\u001b[1;36m5\u001b[0m \u001b[1;33m,\u001b[0m\u001b[1;34m\"CNG\"\u001b[0m\u001b[1;33m]\u001b[0m\u001b[1;33m]\u001b[0m\u001b[1;33m)\u001b[0m\u001b[1;33m\u001b[0m\u001b[1;33m\u001b[0m\u001b[0m\n\u001b[0m",
      "\u001b[1;31mTypeError\u001b[0m: resultTable() missing 10 required positional arguments: 'maxage', 'mineng', 'maxeng', 'minpow', 'maxpow', 'minmil', 'maxmil', 'trans', 'seats', and 'fueltype'"
     ]
    }
   ],
   "source": [
    "resultTable([[ 10 , 20 ,25,600,15,70 ,15,25, \"Manual\",5 ,\"CNG\"]])\n"
   ]
  },
  {
   "cell_type": "code",
   "execution_count": 17,
   "id": "c8d70934",
   "metadata": {},
   "outputs": [
    {
     "ename": "NameError",
     "evalue": "name 'resultTablesult' is not defined",
     "output_type": "error",
     "traceback": [
      "\u001b[1;31m---------------------------------------------------------------------------\u001b[0m",
      "\u001b[1;31mNameError\u001b[0m                                 Traceback (most recent call last)",
      "\u001b[1;32m~\\AppData\\Local\\Temp\\ipykernel_15280\\1872233510.py\u001b[0m in \u001b[0;36m<module>\u001b[1;34m\u001b[0m\n\u001b[0;32m      1\u001b[0m \u001b[1;32mimport\u001b[0m \u001b[0mpickle\u001b[0m\u001b[1;33m\u001b[0m\u001b[1;33m\u001b[0m\u001b[0m\n\u001b[0;32m      2\u001b[0m \u001b[0mfile\u001b[0m\u001b[1;33m=\u001b[0m\u001b[0mopen\u001b[0m\u001b[1;33m(\u001b[0m\u001b[1;34m'Buy-Model.pkl'\u001b[0m\u001b[1;33m,\u001b[0m\u001b[1;34m'wb'\u001b[0m\u001b[1;33m)\u001b[0m\u001b[1;33m\u001b[0m\u001b[1;33m\u001b[0m\u001b[0m\n\u001b[1;32m----> 3\u001b[1;33m \u001b[0mpickle\u001b[0m\u001b[1;33m.\u001b[0m\u001b[0mdump\u001b[0m\u001b[1;33m(\u001b[0m\u001b[0mresultTablesult\u001b[0m\u001b[1;33m,\u001b[0m\u001b[0mfile\u001b[0m\u001b[1;33m)\u001b[0m\u001b[1;33m\u001b[0m\u001b[1;33m\u001b[0m\u001b[0m\n\u001b[0m",
      "\u001b[1;31mNameError\u001b[0m: name 'resultTablesult' is not defined"
     ]
    }
   ],
   "source": [
    "# import pickle\n",
    "# file=open('Buy-Model.pkl','wb')\n",
    "# pickle.dump(resultTablesult,file)"
   ]
  },
  {
   "cell_type": "code",
   "execution_count": 44,
   "id": "0d4865b7",
   "metadata": {},
   "outputs": [],
   "source": [
    "def resultTable (minmil ,maxmil ,trans  ):\n",
    "#         final_dataset=cd[(cd['Year']>=minage)&(cd['Year']<maxage)&(cd['Engine CC']>=mineng)&(cd['Engine CC']<maxeng)&(cd['Power']>minpow)&(cd['Power']<maxpow)&(cd['Mileage Km/L']>minmil)&(cd['Mileage Km/L']<maxmil)&(cd['Transmission']==trans)&(cd['Seats']==seats)&(cd['Fuel_Type']==fueltype)] \n",
    "        final_dataset=cd[(cd['Mileage Km/L']>minmil)&(cd['Mileage Km/L']<maxmil)&(cd['Transmission']==tran)]\n",
    "        df=pd.DataFrame(final_dataset,columns=['Name', 'Manufacturer', 'Owner_Type', 'Price'])\n",
    "        print(df)"
   ]
  },
  {
   "cell_type": "code",
   "execution_count": 45,
   "id": "40fc184f",
   "metadata": {},
   "outputs": [
    {
     "name": "stdout",
     "output_type": "stream",
     "text": [
      "                                            Name  Manufacturer Owner_Type  \\\n",
      "55    Volkswagen Vento 2013-2015 1.6 Comfortline    Volkswagen      First   \n",
      "63     Mercedes-Benz New C-Class 200 CDI Classic  MercedesBenz     Second   \n",
      "71                        Mahindra XUV500 W8 4WD      Mahindra      First   \n",
      "94                        Mahindra XUV500 W8 2WD      Mahindra      First   \n",
      "99          Volkswagen Polo Petrol Highline 1.6L    Volkswagen      First   \n",
      "...                                          ...           ...        ...   \n",
      "5878            Volkswagen Vento Petrol Highline    Volkswagen      First   \n",
      "5880               Mahindra Scorpio 1.99 S4 Plus      Mahindra      First   \n",
      "5911   Mercedes-Benz New C-Class 200 CDI Classic  MercedesBenz     Second   \n",
      "5942                            Hyundai Getz GLS       Hyundai     Second   \n",
      "5960                            Hyundai Getz GLE       Hyundai      First   \n",
      "\n",
      "      Price  \n",
      "55     3.99  \n",
      "63    10.00  \n",
      "71     9.65  \n",
      "94     8.10  \n",
      "99     2.65  \n",
      "...     ...  \n",
      "5878   5.54  \n",
      "5880  10.08  \n",
      "5911  15.50  \n",
      "5942   0.85  \n",
      "5960   2.20  \n",
      "\n",
      "[243 rows x 4 columns]\n"
     ]
    }
   ],
   "source": [
    "resultTable(15,16,\"Manual\")"
   ]
  },
  {
   "cell_type": "code",
   "execution_count": 50,
   "id": "cc68a7f9",
   "metadata": {},
   "outputs": [],
   "source": [
    "def resultTable (minage ,maxage ,mineng ,maxeng ,minpow ,maxpow ,minmil ,maxmil ,trans ,seats ,fueltype ):\n",
    "            final_dataset=df1=cd[(cd['Year']>=minage)&(cd['Year']<maxage)&(cd['Engine CC']>=mineng)&(cd['Engine CC']<maxeng)&(cd['Power']>minpow)&(cd['Power']<maxpow)&(cd['Mileage Km/L']>minmil)&(cd['Mileage Km/L']<maxmil)&(cd['Transmission']==trans)&(cd['Seats']==seats)&(cd['Fuel_Type']==fueltype)] \n",
    "            df=pd.DataFrame(final_dataset,columns=['Name', 'Manufacturer', 'Owner_Type', 'Price'])\n",
    "            print(df.shape)\n",
    "            print(df)"
   ]
  },
  {
   "cell_type": "code",
   "execution_count": 51,
   "id": "9d9c8332",
   "metadata": {},
   "outputs": [
    {
     "name": "stdout",
     "output_type": "stream",
     "text": [
      "(0, 4)\n",
      "Empty DataFrame\n",
      "Columns: [Name, Manufacturer, Owner_Type, Price]\n",
      "Index: []\n"
     ]
    }
   ],
   "source": [
    "resultTable(10 , 20 ,25,600,15,70 ,15,25, \"Manual\",5 ,\"CNG\")"
   ]
  },
  {
   "cell_type": "code",
   "execution_count": null,
   "id": "a7921abd",
   "metadata": {},
   "outputs": [],
   "source": []
  }
 ],
 "metadata": {
  "kernelspec": {
   "display_name": "Python 3 (ipykernel)",
   "language": "python",
   "name": "python3"
  },
  "language_info": {
   "codemirror_mode": {
    "name": "ipython",
    "version": 3
   },
   "file_extension": ".py",
   "mimetype": "text/x-python",
   "name": "python",
   "nbconvert_exporter": "python",
   "pygments_lexer": "ipython3",
   "version": "3.7.3"
  }
 },
 "nbformat": 4,
 "nbformat_minor": 5
}
